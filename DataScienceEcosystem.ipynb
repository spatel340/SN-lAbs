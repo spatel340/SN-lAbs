{
 "cells": [
  {
   "cell_type": "markdown",
   "id": "f2d447e4",
   "metadata": {},
   "source": [
    "# Data Science Tools and Ecosystem"
   ]
  },
  {
   "cell_type": "markdown",
   "id": "24b4e63d",
   "metadata": {},
   "source": [
    "In this notebook, Data Science Tools and Ecosystem are summarized."
   ]
  },
  {
   "cell_type": "markdown",
   "id": "b97b8709",
   "metadata": {},
   "source": [
    "**Objectives:**\n",
    "- List popular languages for Data Science\n",
    "- List commonly used Data Science libraries\n",
    "- Demonstrate arithmetic expressions in Python\n",
    "- Create tables in Markdown\n"
   ]
  },
  {
   "cell_type": "markdown",
   "id": "c8fe8c30",
   "metadata": {},
   "source": [
    "Some of the popular languages that Data Scientists use are:\n",
    "1. Python\n",
    "2. R\n",
    "3. Julia\n"
   ]
  },
  {
   "cell_type": "markdown",
   "id": "d82ed017",
   "metadata": {},
   "source": [
    "Some of the commonly used libraries used by Data Scientists include:\n",
    "1. Pandas\n",
    "2. NumPy\n",
    "3. Scikit-learn\n",
    "\n"
   ]
  },
  {
   "cell_type": "markdown",
   "id": "48d93293",
   "metadata": {},
   "source": [
    "| Data Science Tools |\n",
    "|------------|\n",
    "| Jupyter Notebook|\n",
    "| Rstudio         |\n",
    "| VS Code       |\n",
    "\n"
   ]
  },
  {
   "cell_type": "markdown",
   "id": "3d6a8fbf",
   "metadata": {},
   "source": [
    "### Below are a few examples of evaluating arithmetic expressions in Python\n",
    "- Addition: `2 + 3 = 5`\n",
    "- Subtraction: `7 - 4 = 3`\n",
    "- Multiplication: `3 * 5 = 15`\n",
    "- Division: `8 / 2 = 4`\n"
   ]
  },
  {
   "cell_type": "code",
   "execution_count": 1,
   "id": "4ebc29bf",
   "metadata": {},
   "outputs": [
    {
     "data": {
      "text/plain": [
       "17"
      ]
     },
     "execution_count": 1,
     "metadata": {},
     "output_type": "execute_result"
    }
   ],
   "source": [
    "# This is a simple arithmetic expression to multiply then add integers\n",
    "(3 * 4) + 5\n"
   ]
  },
  {
   "cell_type": "code",
   "execution_count": 2,
   "id": "e7c463fb",
   "metadata": {},
   "outputs": [
    {
     "name": "stdout",
     "output_type": "stream",
     "text": [
      "3 hours and 20 minutes\n"
     ]
    }
   ],
   "source": [
    "# This will convert 200 minutes to hours and minutes\n",
    "hours = 200 // 60  # Calculate hours\n",
    "minutes = 200 % 60  # Calculate remaining minutes\n",
    "print(hours, \"hours and\", minutes, \"minutes\")\n"
   ]
  },
  {
   "cell_type": "markdown",
   "id": "5760d52c",
   "metadata": {},
   "source": [
    "## Author\n",
    "Shivam Patel\n"
   ]
  }
 ],
 "metadata": {
  "kernelspec": {
   "display_name": "Python 3 (ipykernel)",
   "language": "python",
   "name": "python3"
  },
  "language_info": {
   "codemirror_mode": {
    "name": "ipython",
    "version": 3
   },
   "file_extension": ".py",
   "mimetype": "text/x-python",
   "name": "python",
   "nbconvert_exporter": "python",
   "pygments_lexer": "ipython3",
   "version": "3.9.13"
  }
 },
 "nbformat": 4,
 "nbformat_minor": 5
}
